{
  "metadata": {
    "language_info": {
      "codemirror_mode": {
        "name": "python",
        "version": 3
      },
      "file_extension": ".py",
      "mimetype": "text/x-python",
      "name": "python",
      "nbconvert_exporter": "python",
      "pygments_lexer": "ipython3",
      "version": "3.8"
    },
    "kernelspec": {
      "name": "python",
      "display_name": "Python (Pyodide)",
      "language": "python"
    }
  },
  "nbformat_minor": 4,
  "nbformat": 4,
  "cells": [
    {
      "cell_type": "code",
      "source": "#Call for the user to input their name\nfull_name = input(\"Enter Full Name: \")\n\n#Then split the full name into parts\nname_parts = full_name.split()\n\n#then store the initials into a string\ninitials = \" \"\n\n#sort through the name parts and get the first initials\nfor part in name_parts:\n    initials += part[0].upper() + \".\"\n\n#you then need to remove the extra spaces from the nanme\ninitials = initials[:-2]\n\n#Then you just need to display everything\nprint(initials)",
      "metadata": {},
      "execution_count": null,
      "outputs": []
    }
  ]
}