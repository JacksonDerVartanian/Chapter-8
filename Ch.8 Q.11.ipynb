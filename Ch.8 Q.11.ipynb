{
  "metadata": {
    "language_info": {
      "codemirror_mode": {
        "name": "python",
        "version": 3
      },
      "file_extension": ".py",
      "mimetype": "text/x-python",
      "name": "python",
      "nbconvert_exporter": "python",
      "pygments_lexer": "ipython3",
      "version": "3.8"
    },
    "kernelspec": {
      "name": "python",
      "display_name": "Python (Pyodide)",
      "language": "python"
    }
  },
  "nbformat_minor": 4,
  "nbformat": 4,
  "cells": [
    {
      "cell_type": "code",
      "source": "def separate_words(input_string):\n    # You have to split the strings into words using white space as the seperator\n    words = input_string.split()\n\n    # Capitalize the first letter of the first word\n    if words:\n        words[0] = words[0].capitalize()\n\n    # Join the words with spaces to create the final scentence\n    separated_string = ' '.join(words)\n\n    return separated_string\n\n# Get user input\nuser_input = input(\"Enter a sentence with run-together words: \")\n\n# Call the function to separate and capitalize the words\nresult = separate_words(user_input)\n\n# Display the scentence fully completed\nprint(\"Separated and capitalized sentence:\")\nprint(result)\n",
      "metadata": {},
      "execution_count": null,
      "outputs": []
    }
  ]
}