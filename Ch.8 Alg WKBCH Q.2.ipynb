{
  "metadata": {
    "language_info": {
      "codemirror_mode": {
        "name": "python",
        "version": 3
      },
      "file_extension": ".py",
      "mimetype": "text/x-python",
      "name": "python",
      "nbconvert_exporter": "python",
      "pygments_lexer": "ipython3",
      "version": "3.8"
    },
    "kernelspec": {
      "name": "python",
      "display_name": "Python (Pyodide)",
      "language": "python"
    }
  },
  "nbformat_minor": 4,
  "nbformat": 4,
  "cells": [
    {
      "cell_type": "code",
      "source": "#This code needs to start with starting a variable and assigning it a value\nmy_string = 'stringhere'\n\n#then we make a variable that will keep track of the digits in the string\ndigit_count = 0\n\n#this line needs to start a for loop to go throuh everything\nfor char in my_string:\n    if char.isdigit():\n        digit_count += 1\n#You then need to print everything to display the response\nprint('number of digits in the string:', digit_count)\n    \n    \n",
      "metadata": {},
      "execution_count": null,
      "outputs": []
    }
  ]
}